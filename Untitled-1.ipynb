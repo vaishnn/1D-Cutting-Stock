{
 "cells": [
  {
   "cell_type": "code",
   "execution_count": 3,
   "metadata": {},
   "outputs": [],
   "source": [
    "from ortools.algorithms import pywrapknapsack_solver"
   ]
  },
  {
   "cell_type": "code",
   "execution_count": 13,
   "metadata": {},
   "outputs": [],
   "source": [
    "values = [\n",
    "    6,2,2,2,3,3\n",
    "]\n",
    "weights = np.array([[\n",
    "    10,6,6,6,9,9\n",
    "]])\n",
    "capacities = [19]"
   ]
  },
  {
   "cell_type": "code",
   "execution_count": 14,
   "metadata": {},
   "outputs": [],
   "source": [
    "solver = pywrapknapsack_solver.KnapsackSolver(\n",
    "    pywrapknapsack_solver.KnapsackSolver.\n",
    "    KNAPSACK_MULTIDIMENSION_BRANCH_AND_BOUND_SOLVER, 'KnapsackExample')"
   ]
  },
  {
   "cell_type": "code",
   "execution_count": 15,
   "metadata": {},
   "outputs": [
    {
     "ename": "TypeError",
     "evalue": "Expecting a list of tuples",
     "output_type": "error",
     "traceback": [
      "\u001b[1;31m---------------------------------------------------------------------------\u001b[0m",
      "\u001b[1;31mTypeError\u001b[0m                                 Traceback (most recent call last)",
      "Cell \u001b[1;32mIn[15], line 1\u001b[0m\n\u001b[1;32m----> 1\u001b[0m solver\u001b[39m.\u001b[39;49mInit(values, weights, capacities)\n\u001b[0;32m      2\u001b[0m computed_value \u001b[39m=\u001b[39m solver\u001b[39m.\u001b[39mSolve()\n\u001b[0;32m      3\u001b[0m packed_items \u001b[39m=\u001b[39m []\n",
      "File \u001b[1;32m~\\AppData\\Roaming\\Python\\Python39\\site-packages\\ortools\\algorithms\\pywrapknapsack_solver.py:213\u001b[0m, in \u001b[0;36mKnapsackSolver.Init\u001b[1;34m(self, profits, weights, capacities)\u001b[0m\n\u001b[0;32m    211\u001b[0m \u001b[39mdef\u001b[39;00m \u001b[39mInit\u001b[39m(\u001b[39mself\u001b[39m, profits, weights, capacities):\n\u001b[0;32m    212\u001b[0m \u001b[39m    \u001b[39m\u001b[39mr\u001b[39m\u001b[39m\"\"\"Initializes the solver and enters the problem to be solved.\"\"\"\u001b[39;00m\n\u001b[1;32m--> 213\u001b[0m     \u001b[39mreturn\u001b[39;00m _pywrapknapsack_solver\u001b[39m.\u001b[39;49mKnapsackSolver_Init(\u001b[39mself\u001b[39;49m, profits, weights, capacities)\n",
      "\u001b[1;31mTypeError\u001b[0m: Expecting a list of tuples"
     ]
    }
   ],
   "source": [
    "solver.Init(values, weights, capacities)\n",
    "computed_value = solver.Solve()\n",
    "packed_items = []\n",
    "packed_weights = []\n",
    "total_weight = 0\n",
    "print('Total value =', computed_value)\n",
    "for i in range(len(values)):\n",
    "    if solver.BestSolutionContains(i):\n",
    "        packed_items.append(i)\n",
    "        packed_weights.append(weights[0][i])\n",
    "        total_weight += weights[0][i]\n",
    "print('Total weight:', total_weight)\n",
    "print('Packed items:', packed_items)\n",
    "print('Packed_weights:', packed_weights)"
   ]
  },
  {
   "cell_type": "code",
   "execution_count": 18,
   "metadata": {},
   "outputs": [],
   "source": [
    "packed_items = [x for x in range(0, len(weights[0]))\n",
    "                  if solver.BestSolutionContains(x)]"
   ]
  },
  {
   "cell_type": "code",
   "execution_count": 96,
   "metadata": {},
   "outputs": [
    {
     "name": "stdout",
     "output_type": "stream",
     "text": [
      "[0 1 1]\n",
      "[0 1 1]\n"
     ]
    }
   ],
   "source": [
    "import numpy as np\n",
    "import fractions\n",
    "from ortools.algorithms import pywrapknapsack_solver\n",
    "import math\n",
    "\n",
    "def convert_fractions_to_integers(fraction):\n",
    "  \"\"\"\n",
    "  Converts a bunch of fraction numbers into integers by multiplying with the LCM of the denominators.\n",
    "\n",
    "  Args:\n",
    "    fractions: A list of fractions.\n",
    "\n",
    "  Returns:\n",
    "    A list of integers.\n",
    "  \"\"\"\n",
    "\n",
    "  lcm = fractions.Fraction(fraction[0]).limit_denominator().denominator\n",
    "  for fractio in fraction:\n",
    "    lcm = math.lcm(lcm, fractions.Fraction(fractio).limit_denominator().denominator)\n",
    "\n",
    "  integers = []\n",
    "  for fractio in fraction:\n",
    "    integers.append(fractions.Fraction(fractio).limit_denominator().numerator * lcm // fractions.Fraction(fractio).limit_denominator().denominator)\n",
    "\n",
    "  return integers\n",
    "\n",
    "def branch_and_bounds(new_width,new_Y,total_width,width,Y):\n",
    "    weights_ = np.array([])\n",
    "    new_Y_ = np.array(convert_fractions_to_integers(new_Y.tolist()))\n",
    "    values_ = np.array([])\n",
    "    pattern = np.zeros_like(new_width)\n",
    "    for i in range(len(new_width)):\n",
    "        for j in range(int(total_width/new_width[i])):\n",
    "            weights_ = np.append(weights_, new_width[i])\n",
    "            values_ = np.append(values_,new_Y_[i])\n",
    "    values = values_.tolist()\n",
    "    weights = np.reshape(weights_,[1,weights_.shape[0]]).tolist()\n",
    "    capacity = [total_width]\n",
    "    P = np.array(knapsack_solver(values,weights,capacity))\n",
    "    for i in P:\n",
    "        index = np.where(width == i)\n",
    "        pattern[index] += 1\n",
    "    print(pattern)\n",
    "    if np.sum(pattern*Y) <= 1:\n",
    "       return 0\n",
    "    return pattern\n",
    "\n",
    "\n",
    "def knapsack_solver(values, weights, capacities):\n",
    "    solver = pywrapknapsack_solver.KnapsackSolver(\n",
    "    pywrapknapsack_solver.KnapsackSolver.\n",
    "    KNAPSACK_MULTIDIMENSION_BRANCH_AND_BOUND_SOLVER, 'KnapsackExample')\n",
    "    solver.Init(values, weights, capacities)\n",
    "    computed_value = solver.Solve()\n",
    "    packed_items = []\n",
    "    packed_weights = []\n",
    "    total_weight = 0\n",
    "    for i in range(len(values)):\n",
    "        if solver.BestSolutionContains(i):\n",
    "            packed_items.append(i)\n",
    "            packed_weights.append(weights[0][i])\n",
    "            total_weight += weights[0][i]\n",
    "    return packed_weights;\n",
    " \n",
    " \n",
    "# Driver Code\n",
    "\n",
    "profit = np.array([1, 1/3, 1/2])\n",
    "weight = np.array([10, 6, 9])\n",
    "W = 19\n",
    "n = np.array([6,9,10])\n",
    "Y = np.array([1/3,1/2,1])\n",
    "print(branch_and_bounds(weight, profit, W,n,Y))"
   ]
  },
  {
   "cell_type": "code",
   "execution_count": 27,
   "metadata": {},
   "outputs": [
    {
     "name": "stdout",
     "output_type": "stream",
     "text": [
      "apm 171.77.144.101_gk_model7 <br><pre> ----------------------------------------------------------------\n",
      " APMonitor, Version 1.0.1\n",
      " APMonitor Optimization Suite\n",
      " ----------------------------------------------------------------\n",
      " \n",
      " \n",
      " Warning: there is insufficient data in CSV file 171.77.144.101_gk_model7.csv\n",
      " \n",
      " --------- APM Model Size ------------\n",
      " Each time step contains\n",
      "   Objects      :            2\n",
      "   Constants    :            0\n",
      "   Variables    :           12\n",
      "   Intermediates:            0\n",
      "   Connections  :            8\n",
      "   Equations    :            8\n",
      "   Residuals    :            8\n",
      " \n",
      " Number of state variables:             12\n",
      " Number of total equations: -            9\n",
      " Number of slack variables: -            1\n",
      " ---------------------------------------\n",
      " Degrees of freedom       :              2\n",
      " \n",
      " ----------------------------------------------\n",
      " Steady State Optimization with APOPT Solver\n",
      " ----------------------------------------------\n",
      "Iter:     1 I:  0 Tm:      0.00 NLPi:    3 Dpth:    0 Lvs:    3 Obj: -9.00E+00 Gap:       NaN\n",
      "Iter:     2 I:  0 Tm:      0.00 NLPi:    2 Dpth:    1 Lvs:    4 Obj: -7.40E+00 Gap:       NaN\n",
      "--Integer Solution:  -9.00E+00 Lowest Leaf:  -9.00E+00 Gap:   0.00E+00\n",
      "Iter:     3 I:  0 Tm:      0.00 NLPi:    3 Dpth:    1 Lvs:    4 Obj: -9.00E+00 Gap:  0.00E+00\n",
      " Successful solution\n",
      " \n",
      " ---------------------------------------------------\n",
      " Solver         :  APOPT (v1.0)\n",
      " Solution time  :   1.639999999315478E-002 sec\n",
      " Objective      :   -9.00000000000000     \n",
      " Successful solution\n",
      " ---------------------------------------------------\n",
      " \n",
      "a = 1.000000\n",
      "b = 0.000000\n",
      "c = 1.000000\n",
      "Objective = 9.000000\n"
     ]
    }
   ],
   "source": [
    "from gekko import GEKKO\n",
    "\n",
    "y = ['a','b','c']\n",
    "v = [6,2,3]\n",
    "w = [10,6,9]\n",
    "items = len(y)\n",
    "\n",
    "# Create model\n",
    "m = GEKKO()\n",
    "\n",
    "# Variables\n",
    "x = m.Array(m.Var,len(y),lb=0,ub=1,integer=True)\n",
    "\n",
    "# Objective\n",
    "m.Maximize(m.sum([v[i]*x[i] for i in range(items)]))\n",
    "\n",
    "# Constraint\n",
    "limit = 19\n",
    "m.Equation(m.sum([w[i]*x[i] for i in range(items)]) <= limit)\n",
    "\n",
    "# Optimize with APOPT\n",
    "m.options.SOLVER = 1\n",
    "\n",
    "m.solve()\n",
    "\n",
    "# Print the value of the variables at the optimum\n",
    "for i in range(items):\n",
    "\n",
    "    print(\"%s = %f\" % (y[i], x[i].value[0]))\n",
    "\n",
    "# Print the value of the objective\n",
    "print(\"Objective = %f\" % (-m.options.objfcnval))"
   ]
  },
  {
   "cell_type": "code",
   "execution_count": 98,
   "metadata": {},
   "outputs": [],
   "source": [
    "class Tree:\n",
    "    def __init__(self,data):\n",
    "        self.Sub = []\n",
    "        self.data = data\n",
    "        self.prev = None"
   ]
  },
  {
   "cell_type": "code",
   "execution_count": 100,
   "metadata": {},
   "outputs": [
    {
     "name": "stdout",
     "output_type": "stream",
     "text": [
      "inf\n"
     ]
    }
   ],
   "source": [
    "print(np.inf)\n",
    "a = np.array([np.inf, 2 , 5])"
   ]
  },
  {
   "cell_type": "code",
   "execution_count": 102,
   "metadata": {},
   "outputs": [
    {
     "data": {
      "text/plain": [
       "2.0"
      ]
     },
     "execution_count": 102,
     "metadata": {},
     "output_type": "execute_result"
    }
   ],
   "source": [
    "min(a)"
   ]
  },
  {
   "cell_type": "code",
   "execution_count": 11,
   "metadata": {},
   "outputs": [
    {
     "data": {
      "text/plain": [
       "3"
      ]
     },
     "execution_count": 11,
     "metadata": {},
     "output_type": "execute_result"
    }
   ],
   "source": [
    "int(3.1)"
   ]
  },
  {
   "cell_type": "code",
   "execution_count": 8,
   "metadata": {},
   "outputs": [],
   "source": [
    "a = [[]]"
   ]
  },
  {
   "cell_type": "code",
   "execution_count": 9,
   "metadata": {},
   "outputs": [],
   "source": [
    "a.append(1)"
   ]
  },
  {
   "cell_type": "code",
   "execution_count": 12,
   "metadata": {},
   "outputs": [
    {
     "ename": "IndexError",
     "evalue": "list index out of range",
     "output_type": "error",
     "traceback": [
      "\u001b[1;31m---------------------------------------------------------------------------\u001b[0m",
      "\u001b[1;31mIndexError\u001b[0m                                Traceback (most recent call last)",
      "Cell \u001b[1;32mIn[12], line 1\u001b[0m\n\u001b[1;32m----> 1\u001b[0m a[\u001b[39m0\u001b[39;49m][\u001b[39m1\u001b[39;49m]\n",
      "\u001b[1;31mIndexError\u001b[0m: list index out of range"
     ]
    }
   ],
   "source": [
    "a[0]"
   ]
  },
  {
   "cell_type": "code",
   "execution_count": 31,
   "metadata": {},
   "outputs": [],
   "source": [
    "w = [[]]"
   ]
  },
  {
   "cell_type": "code",
   "execution_count": 35,
   "metadata": {},
   "outputs": [],
   "source": [
    "w.append(1)"
   ]
  },
  {
   "cell_type": "code",
   "execution_count": 36,
   "metadata": {},
   "outputs": [
    {
     "data": {
      "text/plain": [
       "1"
      ]
     },
     "execution_count": 36,
     "metadata": {},
     "output_type": "execute_result"
    }
   ],
   "source": [
    "w[1]"
   ]
  },
  {
   "cell_type": "code",
   "execution_count": 49,
   "metadata": {},
   "outputs": [
    {
     "data": {
      "text/plain": [
       "Fraction(1, 2)"
      ]
     },
     "execution_count": 49,
     "metadata": {},
     "output_type": "execute_result"
    }
   ],
   "source": [
    "import fractions\n",
    "fractions.Fraction(1/2)"
   ]
  },
  {
   "cell_type": "code",
   "execution_count": 83,
   "metadata": {},
   "outputs": [
    {
     "name": "stdout",
     "output_type": "stream",
     "text": [
      "[6, 2, 3]\n"
     ]
    }
   ],
   "source": [
    "import math\n",
    "\n",
    "def convert_fractions_to_integers(fraction):\n",
    "  \"\"\"\n",
    "  Converts a bunch of fraction numbers into integers by multiplying with the LCM of the denominators.\n",
    "\n",
    "  Args:\n",
    "    fractions: A list of fractions.\n",
    "\n",
    "  Returns:\n",
    "    A list of integers.\n",
    "  \"\"\"\n",
    "\n",
    "  lcm = fractions.Fraction(fraction[0]).limit_denominator().denominator\n",
    "  for fractio in fraction:\n",
    "    lcm = math.lcm(lcm, fractions.Fraction(fractio).limit_denominator().denominator)\n",
    "\n",
    "  integers = []\n",
    "  for fractio in fraction:\n",
    "    integers.append(fractions.Fraction(fractio).limit_denominator().numerator * lcm // fractions.Fraction(fractio).limit_denominator().denominator)\n",
    "\n",
    "  return integers\n",
    "print(convert_fractions_to_integers([1,1/3,1/2]))\n"
   ]
  },
  {
   "cell_type": "code",
   "execution_count": 62,
   "metadata": {},
   "outputs": [
    {
     "data": {
      "text/plain": [
       "Fraction(1, 3)"
      ]
     },
     "execution_count": 62,
     "metadata": {},
     "output_type": "execute_result"
    }
   ],
   "source": [
    "fractions.Fraction(1/3).limit_denominator()"
   ]
  },
  {
   "cell_type": "code",
   "execution_count": 132,
   "metadata": {},
   "outputs": [],
   "source": [
    "a = [2/3,np.inf,1/3]\n",
    "b = np.min(a)\n"
   ]
  },
  {
   "cell_type": "code",
   "execution_count": 133,
   "metadata": {},
   "outputs": [
    {
     "data": {
      "text/plain": [
       "0.3333333333333333"
      ]
     },
     "execution_count": 133,
     "metadata": {},
     "output_type": "execute_result"
    }
   ],
   "source": [
    "b"
   ]
  },
  {
   "cell_type": "code",
   "execution_count": 71,
   "metadata": {},
   "outputs": [
    {
     "data": {
      "text/plain": [
       "0.6666666666666666"
      ]
     },
     "execution_count": 71,
     "metadata": {},
     "output_type": "execute_result"
    }
   ],
   "source": []
  },
  {
   "cell_type": "code",
   "execution_count": 107,
   "metadata": {},
   "outputs": [],
   "source": [
    "a = np.array([[1,2,3],[2,3,5]])"
   ]
  },
  {
   "cell_type": "code",
   "execution_count": 113,
   "metadata": {},
   "outputs": [
    {
     "data": {
      "text/plain": [
       "array([1, 2])"
      ]
     },
     "execution_count": 113,
     "metadata": {},
     "output_type": "execute_result"
    }
   ],
   "source": [
    "a[:,0]"
   ]
  },
  {
   "cell_type": "code",
   "execution_count": 1,
   "metadata": {},
   "outputs": [
    {
     "name": "stdout",
     "output_type": "stream",
     "text": [
      "[0.  0.5 1. ]\n",
      "BLa\n",
      "2\n",
      "[10. 11. 20.]\n",
      "[[3 0 0]\n",
      " [0 2 1]\n",
      " [0 0 1]]\n",
      "Total Logs[10. 11. 20.]\n",
      "Opimal solution reached\n"
     ]
    },
    {
     "data": {
      "text/plain": [
       "(array([[3, 0, 0],\n",
       "        [0, 2, 1],\n",
       "        [0, 0, 1]]),\n",
       " array([10., 11., 20.]))"
      ]
     },
     "execution_count": 1,
     "metadata": {},
     "output_type": "execute_result"
    }
   ],
   "source": [
    "from entering_bases import *\n",
    "from branch_and_bound import *\n",
    "from rearrange import *\n",
    "from tot_logs import *\n",
    "from leaving_col import leaving_index\n",
    "\n",
    "def optimal_sol(bases, new_width,new_Y,total_width,demand, width,Y):\n",
    "    new_total_logs,tot = total_logs(bases,demand)\n",
    "    new_p = np.array([])\n",
    "    while True:\n",
    "        new_p = branch_and_bounds(new_width,new_Y,total_width,width,Y)\n",
    "        try:\n",
    "            if new_p == 0:\n",
    "                print(\"Opimal solution reached\")\n",
    "                return bases, new_total_logs\n",
    "        except Exception:\n",
    "            pass\n",
    "        removed = leaving_index(bases, new_p, new_total_logs)\n",
    "        #print(removed)\n",
    "        new_total_logs,bases = entering(bases, demand, new_p, removed)\n",
    "        print(bases)\n",
    "        print(\"Total Logs{}\".format(new_total_logs))\n",
    "        c_b = np.ones(len(new_total_logs))\n",
    "        Y = np.matmul(c_b,np.linalg.pinv(bases))\n",
    "        ## Calculating ratios \n",
    "        ratios = Y/new_width;\n",
    "        ratios_sorted = np.sort(ratios)[::-1];\n",
    "        new_width, new_Y,_ = rearrange(ratios,ratios_sorted,new_width,Y);\n",
    "\n",
    "bases = np.array([[3,0,0],[0,2,0],[0,0,1]])\n",
    "new_width = np.array([10,6,9])\n",
    "new_Y = np.array([1,1/3,1/2])\n",
    "total_width = 19\n",
    "demand = np.array([30, 42, 20])\n",
    "width = np.array([6,9,10])\n",
    "Y = np.array([1/3,1/2,1])\n",
    "\n",
    "optimal_sol(bases, new_width, new_Y, total_width, demand, width,Y)\n"
   ]
  },
  {
   "cell_type": "code",
   "execution_count": null,
   "metadata": {},
   "outputs": [],
   "source": []
  }
 ],
 "metadata": {
  "kernelspec": {
   "display_name": "Python 3",
   "language": "python",
   "name": "python3"
  },
  "language_info": {
   "codemirror_mode": {
    "name": "ipython",
    "version": 3
   },
   "file_extension": ".py",
   "mimetype": "text/x-python",
   "name": "python",
   "nbconvert_exporter": "python",
   "pygments_lexer": "ipython3",
   "version": "3.9.13"
  },
  "orig_nbformat": 4
 },
 "nbformat": 4,
 "nbformat_minor": 2
}
